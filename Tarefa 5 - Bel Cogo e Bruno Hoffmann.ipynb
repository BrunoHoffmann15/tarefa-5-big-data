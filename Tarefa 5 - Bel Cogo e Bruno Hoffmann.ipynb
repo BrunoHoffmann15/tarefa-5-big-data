{
 "cells": [
  {
   "cell_type": "markdown",
   "metadata": {},
   "source": [
    "Nomes: Bel Cogo e Bruno da Siqueira Hoffmann.\n",
    "\n",
    "Professor: Felipe de Morais.\n",
    "\n",
    "Disciplina: Ciência de Dados e Big Data.\n",
    "\n",
    "# Tarefa 1"
   ]
  },
  {
   "cell_type": "markdown",
   "metadata": {},
   "source": [
    "O banco de dados utilizado para essa tarefa contém dados referentes a dados de transações, consistindo em 5 tabelas, sendo elas:\n",
    "\n",
    "- sellers: Contém informações sobre os vendedores, incluindo o estado em que estão localizados.\n",
    "- products: Detalha os produtos disponíveis no marketplace, incluindo categorias e pesos.\n",
    "- orders: Fornece informações básicas sobre cada pedido, como registros de data/hora e contato do cliente.\n",
    "- order_items: Agrupa os itens associados a cada pedido, incluindo detalhes de preço.\n",
    "- order_reviews: Armazena as avaliações relacionadas a cada pedido, incluindo classificações numéricas e comentários em texto.\n",
    "\n",
    "É possível verificar o ER do banco de dados abaixo:\n",
    "\n",
    "![Diagrama ER.jpg](./Diagrama%20ER.jpg)"
   ]
  },
  {
   "cell_type": "markdown",
   "metadata": {},
   "source": [
    "Para importar o banco de dados foi executado o comando abaixo:"
   ]
  },
  {
   "cell_type": "code",
   "execution_count": 3,
   "metadata": {},
   "outputs": [],
   "source": [
    "import pandas as pd\n",
    "import sqlite3\n",
    "\n",
    "connection = sqlite3.connect('transactional_data.sqlite')"
   ]
  },
  {
   "cell_type": "code",
   "execution_count": 12,
   "metadata": {},
   "outputs": [
    {
     "name": "stdout",
     "output_type": "stream",
     "text": [
      "<class 'pandas.core.frame.DataFrame'>\n",
      "RangeIndex: 39462 entries, 0 to 39461\n",
      "Data columns (total 4 columns):\n",
      " #   Column                  Non-Null Count  Dtype \n",
      "---  ------                  --------------  ----- \n",
      " 0   review_id               39462 non-null  object\n",
      " 1   order_id                39462 non-null  object\n",
      " 2   review_score            39462 non-null  int64 \n",
      " 3   review_comment_message  39462 non-null  object\n",
      "dtypes: int64(1), object(3)\n",
      "memory usage: 1.2+ MB\n"
     ]
    }
   ],
   "source": [
    "df = pd.read_sql('SELECT * FROM order_reviews;', connection)\n",
    "\n",
    "df.info()"
   ]
  }
 ],
 "metadata": {
  "kernelspec": {
   "display_name": "Python 3",
   "language": "python",
   "name": "python3"
  },
  "language_info": {
   "codemirror_mode": {
    "name": "ipython",
    "version": 3
   },
   "file_extension": ".py",
   "mimetype": "text/x-python",
   "name": "python",
   "nbconvert_exporter": "python",
   "pygments_lexer": "ipython3",
   "version": "3.10.4"
  }
 },
 "nbformat": 4,
 "nbformat_minor": 2
}
